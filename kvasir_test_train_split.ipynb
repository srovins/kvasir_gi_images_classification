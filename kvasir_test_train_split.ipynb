{
  "nbformat": 4,
  "nbformat_minor": 0,
  "metadata": {
    "colab": {
      "name": "kvasir_test_train_split.ipynb",
      "provenance": [],
      "collapsed_sections": [],
      "include_colab_link": true
    },
    "kernelspec": {
      "display_name": "Python 3",
      "name": "python3"
    }
  },
  "cells": [
    {
      "cell_type": "markdown",
      "metadata": {
        "id": "view-in-github",
        "colab_type": "text"
      },
      "source": [
        "<a href=\"https://colab.research.google.com/github/srovins/kvasir_gi_images_classification/blob/main/kvasir_test_train_split.ipynb\" target=\"_parent\"><img src=\"https://colab.research.google.com/assets/colab-badge.svg\" alt=\"Open In Colab\"/></a>"
      ]
    },
    {
      "cell_type": "code",
      "metadata": {
        "id": "gXXK9SO6XF1l"
      },
      "source": [
        "import os, shutil\n",
        "from google.colab import drive"
      ],
      "execution_count": 9,
      "outputs": []
    },
    {
      "cell_type": "code",
      "metadata": {
        "colab": {
          "base_uri": "https://localhost:8080/"
        },
        "id": "gIXgPTNhWMDn",
        "outputId": "cf92943e-f39a-4f43-947c-6272f0f91a3d"
      },
      "source": [
        "drive.mount('/content/drive')"
      ],
      "execution_count": 2,
      "outputs": [
        {
          "output_type": "stream",
          "text": [
            "Mounted at /content/drive\n"
          ],
          "name": "stdout"
        }
      ]
    },
    {
      "cell_type": "code",
      "metadata": {
        "id": "DCJyxeBLo5Vo"
      },
      "source": [
        "DATA_PATH = '/content/drive/My Drive/Colab Notebooks/project_data/kvasir-dataset-v2'"
      ],
      "execution_count": 4,
      "outputs": []
    },
    {
      "cell_type": "code",
      "metadata": {
        "id": "xr-0BkUvXtfl"
      },
      "source": [
        "os.chdir(DATA_PATH)"
      ],
      "execution_count": 5,
      "outputs": []
    },
    {
      "cell_type": "code",
      "metadata": {
        "id": "Da_sfi7HYT-G"
      },
      "source": [
        "classes = os.listdir('/content/drive/My Drive/Colab Notebooks/project_data/kvasir-dataset-v2')"
      ],
      "execution_count": 10,
      "outputs": []
    },
    {
      "cell_type": "code",
      "metadata": {
        "colab": {
          "base_uri": "https://localhost:8080/"
        },
        "id": "jxezxWMJdCE3",
        "outputId": "f7c8cbc1-9c34-4a8c-a817-c643785b26fc"
      },
      "source": [
        "classes"
      ],
      "execution_count": 11,
      "outputs": [
        {
          "output_type": "execute_result",
          "data": {
            "text/plain": [
              "['polyps',\n",
              " 'normal-z-line',\n",
              " 'normal-pylorus',\n",
              " 'dyed-resection-margins',\n",
              " 'esophagitis',\n",
              " 'ulcerative-colitis',\n",
              " 'dyed-lifted-polyps',\n",
              " 'normal-cecum']"
            ]
          },
          "metadata": {
            "tags": []
          },
          "execution_count": 11
        }
      ]
    },
    {
      "cell_type": "code",
      "metadata": {
        "id": "YIzrrI9MZXb_"
      },
      "source": [
        "original_dataset_dir = DATA_PATH\n",
        "base_dir = '/content/drive/My Drive/Colab Notebooks/project_data/'\n",
        "train_dir = os.path.join(base_dir, 'train')\n",
        "os.mkdir(train_dir)\n",
        "test_dir = os.path.join(base_dir, 'test')\n",
        "os.mkdir(test_dir)"
      ],
      "execution_count": 14,
      "outputs": []
    },
    {
      "cell_type": "code",
      "metadata": {
        "colab": {
          "base_uri": "https://localhost:8080/"
        },
        "id": "iGhyDIGGZ7k6",
        "outputId": "d1a0619d-2ab9-4bd5-83ef-afbbf460e842"
      },
      "source": [
        "for class_label in classes:\n",
        "  train_class_dir = os.path.join(train_dir, class_label)\n",
        "  os.mkdir(train_class_dir)\n",
        "  test_class_dir = os.path.join(test_dir, class_label)\n",
        "  os.mkdir(test_class_dir)\n",
        "  src_dir = os.path.join(original_dataset_dir, class_label)\n",
        "  file_list = os.listdir(src_dir)\n",
        "\n",
        "  # copy 900 files from each class to train folder\n",
        "  for i in range(900):\n",
        "    src = os.path.join(src_dir, file_list[i])\n",
        "    dst = os.path.join(train_class_dir, file_list[i])\n",
        "    shutil.copyfile(src, dst)\n",
        "\n",
        "  print('%d files copied to %s directory' % (len(os.listdir(train_class_dir)), train_class_dir))\n",
        "\n",
        "  # copy the rest 100 files from each class to test folder\n",
        "  for i in range(900, 1000):\n",
        "    src = os.path.join(src_dir, file_list[i])\n",
        "    dst = os.path.join(test_class_dir, file_list[i])\n",
        "    shutil.copyfile(src, dst)\n",
        "  \n",
        "  print('%d files copied to %s directory' % (len(os.listdir(test_class_dir)), test_class_dir))"
      ],
      "execution_count": 15,
      "outputs": [
        {
          "output_type": "stream",
          "text": [
            "900 files copied to /content/drive/My Drive/Colab Notebooks/project_data/train/polyps directory\n",
            "100 files copied to /content/drive/My Drive/Colab Notebooks/project_data/test/polyps directory\n",
            "900 files copied to /content/drive/My Drive/Colab Notebooks/project_data/train/normal-z-line directory\n",
            "100 files copied to /content/drive/My Drive/Colab Notebooks/project_data/test/normal-z-line directory\n",
            "900 files copied to /content/drive/My Drive/Colab Notebooks/project_data/train/normal-pylorus directory\n",
            "100 files copied to /content/drive/My Drive/Colab Notebooks/project_data/test/normal-pylorus directory\n",
            "900 files copied to /content/drive/My Drive/Colab Notebooks/project_data/train/dyed-resection-margins directory\n",
            "100 files copied to /content/drive/My Drive/Colab Notebooks/project_data/test/dyed-resection-margins directory\n",
            "900 files copied to /content/drive/My Drive/Colab Notebooks/project_data/train/esophagitis directory\n",
            "100 files copied to /content/drive/My Drive/Colab Notebooks/project_data/test/esophagitis directory\n",
            "900 files copied to /content/drive/My Drive/Colab Notebooks/project_data/train/ulcerative-colitis directory\n",
            "100 files copied to /content/drive/My Drive/Colab Notebooks/project_data/test/ulcerative-colitis directory\n",
            "900 files copied to /content/drive/My Drive/Colab Notebooks/project_data/train/dyed-lifted-polyps directory\n",
            "100 files copied to /content/drive/My Drive/Colab Notebooks/project_data/test/dyed-lifted-polyps directory\n",
            "900 files copied to /content/drive/My Drive/Colab Notebooks/project_data/train/normal-cecum directory\n",
            "100 files copied to /content/drive/My Drive/Colab Notebooks/project_data/test/normal-cecum directory\n"
          ],
          "name": "stdout"
        }
      ]
    }
  ]
}